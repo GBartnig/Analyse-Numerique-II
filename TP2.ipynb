{
 "metadata": {
  "language": "Julia",
  "name": "",
  "signature": "sha256:1342c00050c4d88a4c71aacf99609bf5dea2b720084ec9fe39776f93f6118099"
 },
 "nbformat": 3,
 "nbformat_minor": 0,
 "worksheets": [
  {
   "cells": [
    {
     "cell_type": "markdown",
     "metadata": {},
     "source": [
      "# TP2 - Probl\u00e8me de Stokes - JULIA\n",
      "___\n",
      "Ce petit \"notebook\" a pour but de montrer quelques propri\u00e9t\u00e9s de r\u00e9solution d'un systeme lin\u00e9aire de type \"Elliptique contraint\". Le langage utilis\u00e9 est [Julia](http://julialang.org/), l'interface utilis\u00e9e -le notebook- est [Ipython](http://ipython.org/) avec le package [IJulia](https://github.com/JuliaLang/IJulia.jl). Les graphiques sont r\u00e9alis\u00e9s \u00e0 l'aide du package [PyPlot](https://github.com/stevengj/PyPlot.jl).\n",
      "\n",
      "Les diff\u00e9rents tests (benchmarks) seront men\u00e9s sur un syst\u00e8me d'\u00e9quation provenant de la discr\u00e9tisation diff\u00e9rence finie (sch\u00e9ma de MAC) du probl\u00e8me se Stockes suivant :\n",
      "\n",
      "$$  \\begin{cases}\n",
      "    -\\mu \\Delta \\vec{u} + \\nabla p = \\vec{f} &\\text{ dans }  \\Omega\\\\\n",
      "    \\text{div}(\\vec{u})  = 0&\\text{ dans }  \\Omega \\\\\n",
      "    \\vec{u}=\\vec{g}& \\text{ sur } \\partial \\Omega \\quad \\text{ avec } \\int_{\\partial \\Omega} \\vec{g}.\\vec{n} d\\sigma =0\n",
      "  \\end{cases}\n",
      "$$   \n",
      "\n",
      "___\n",
      "# 1. Assemblage du syst\u00e8me\n",
      "\n",
      "On se donne une grille uniforme sur $]0,1[^2$ avec un pas $h=\\frac{1}{n+1}$. Dans un premier temps prenons $\\vec{g}=0$.\n",
      "\n",
      "On note \n",
      "* $M_{i,j}=(ih,jh)$, $i,j=0,..,n+1$ les noeuds de la grille.\n",
      "* $C_{i+\\frac{1}{2},j+\\frac{1}{2}}=\\left(\\left(i+1/2\\right)h,\\left(j+1/2\\right)h\\right)$, $i,j=0,..,n$ les centres des cellules de la grille.\n",
      "\n",
      "On cherche \n",
      "* les composantes de la vitesse aux noeuds de la grille $u^1_{i,j}\\simeq u^1(M_{i,j})$, $u^2_{i,j}\\simeq u^2(M_{i,j})$ $i,j=0,..,n+1$.\n",
      "* la pression au centre des cellules $p_{i+\\frac{1}{2},j+\\frac{1}{2}}\\simeq p(C_{i+\\frac{1}{2},j+\\frac{1}{2}})$ $i,j=0,..,n$\n",
      "\n",
      "Le sch\u00e9ma de MAC donne le syst\u00e8me suivant :\n",
      "$$ \\begin{cases} - \\mu \\Delta_h u^1_{i,j} + \\frac{1}{2h}\\left(p_{i+\\frac{1}{2},j+\\frac{1}{2}}+p_{i+\\frac{1}{2},j-\\frac{1}{2}}-p_{i-\\frac{1}{2},j+\\frac{1}{2}}-p_{i-\\frac{1}{2},j-\\frac{1}{2}} \\right) = f^1_{i,j} & i,j=0,..,n+1\\\\- \\mu \\Delta_h u^2_{i,j} + \\frac{1}{2h}\\left(p_{i+\\frac{1}{2},j+\\frac{1}{2}}+p_{i-\\frac{1}{2},j+\\frac{1}{2}}-p_{i+\\frac{1}{2},j-\\frac{1}{2}}-p_{i-\\frac{1}{2},j-\\frac{1}{2}} \\right) = f^2_{i,j} & i,j=0,..,n+1 \\\\\\frac{1}{2h}\\left(u^1_{i,j}+u^1_{i,j+1}-u^1_{i+1,j}-u^1_{i+1,j+1} \\right)  + \\frac{1}{2h}\\left(u^2_{i,j}+u^2_{i+1,j}-u^2_{i,j+1}-u^2_{i+1,j+1} \\right)=0 & i,j=0,..,n \\end{cases}$$\n",
      "\n",
      "avec $\\Delta_h u_{i,j}=\\frac{1}{h^2}\\left(-u_{i-1,j} - u_{i,j-1} +4u_{i,j} -u_{i+1,j} -u_{i,j+1}\\right)$\n",
      "\n",
      "Ceci donne un syst\u00e8me matriciel de la forme :\n",
      "$$  \\left(\\begin{array}{c c c}A_1 & 0 &B_1^t\\\\0 & A_2 &B_2^t \\\\B_1& B_2& 0  \\end{array}\\right)\\left(\\begin{array}{c}u^1\\\\u^2\\\\p\\end{array}\\right)=\\left(\\begin{array}{c}f_1\\\\f_2\\\\0\\end{array}\\right) $$\n",
      "\n",
      "___"
     ]
    },
    {
     "cell_type": "code",
     "collapsed": false,
     "input": [
      "function Laplace1d(n)\n",
      "    h=1./(n+1)\n",
      "    d1=[-1/h^2 for i=1:n-1];\n",
      "    d2=[2/h^2 for i=1:n];\n",
      "    d3=[-1/h^2 for i=1:n-1];\n",
      "    spdiagm((d1,d2,d3),(-1,0,1));   \n",
      "end\n",
      "function Laplace2d(n,m)\n",
      "    kron(speye(m),Laplace1d(n))+kron(Laplace1d(m),speye(n))\n",
      "end\n",
      "# diff\u00e9rentiation 1d (forward)\n",
      "function Dx1d(n)\n",
      "    h=1./(n+1)\n",
      "    d1=[-1/h for i=1:n];\n",
      "    d2=[1/h for i=1:n];\n",
      "    spdiagm((d1,d2),(1,0));\n",
      "end\n",
      "# diff\u00e9rentiation 2d\n",
      "function Dx2d(n,m)\n",
      "    tmp=spdiagm((ones(m)/2,ones(m)/2),(1,0))\n",
      "    kron(tmp,Dx1d(n))\n",
      "end\n",
      "function Dy2d(n,m)\n",
      "    tmp=spdiagm((ones(n)/2,ones(n)/2),(1,0))\n",
      "    kron(Dx1d(m),tmp)\n",
      "end"
     ],
     "language": "python",
     "metadata": {},
     "outputs": [
      {
       "metadata": {},
       "output_type": "pyout",
       "prompt_number": 11,
       "text": [
        "Dy2d (generic function with 1 method)"
       ]
      }
     ],
     "prompt_number": 11
    },
    {
     "cell_type": "code",
     "collapsed": false,
     "input": [
      "n=10;\n",
      "mu=1e-2;\n",
      "A1=Laplace2d(n,n)\n",
      "A2=Laplace2d(n,n)\n",
      "B1=Dx2d(n,n)\n",
      "B2=Dy2d(n,n)\n",
      "A=[A1,spzeros(n,n),B1';spzeros(n,n), A2 , B2' ; B1 , B2 , spzeros(n,n)]"
     ],
     "language": "python",
     "metadata": {},
     "outputs": [
      {
       "ename": "LoadError",
       "evalue": "syntax: unexpected semicolon in array expression\nwhile loading In[12], in expression starting on line 7",
       "output_type": "pyerr",
       "traceback": [
        "syntax: unexpected semicolon in array expression\nwhile loading In[12], in expression starting on line 7",
        ""
       ]
      }
     ],
     "prompt_number": 12
    },
    {
     "cell_type": "code",
     "collapsed": false,
     "input": [
      "size(B1)\n"
     ],
     "language": "python",
     "metadata": {},
     "outputs": [
      {
       "metadata": {},
       "output_type": "pyout",
       "prompt_number": 15,
       "text": [
        "(100,121)"
       ]
      }
     ],
     "prompt_number": 15
    },
    {
     "cell_type": "code",
     "collapsed": false,
     "input": [
      "size(A2)\n"
     ],
     "language": "python",
     "metadata": {},
     "outputs": [
      {
       "metadata": {},
       "output_type": "pyout",
       "prompt_number": 14,
       "text": [
        "(100,100)"
       ]
      }
     ],
     "prompt_number": 14
    },
    {
     "cell_type": "code",
     "collapsed": false,
     "input": [],
     "language": "python",
     "metadata": {},
     "outputs": []
    }
   ],
   "metadata": {}
  }
 ]
}